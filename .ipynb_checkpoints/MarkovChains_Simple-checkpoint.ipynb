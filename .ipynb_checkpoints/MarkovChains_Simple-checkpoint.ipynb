{
 "cells": [
  {
   "cell_type": "code",
   "execution_count": 1,
   "metadata": {
    "collapsed": true
   },
   "outputs": [],
   "source": [
    "import numpy as np\n",
    "import re\n",
    "from matplotlib import pyplot as plt\n",
    "%matplotlib inline\n",
    "import random"
   ]
  },
  {
   "cell_type": "code",
   "execution_count": 2,
   "metadata": {
    "collapsed": true
   },
   "outputs": [],
   "source": [
    "f = open('../../input.txt', 'r')\n",
    "ds = f.read()\n",
    "f.close()"
   ]
  },
  {
   "cell_type": "code",
   "execution_count": 19,
   "metadata": {
    "collapsed": false
   },
   "outputs": [
    {
     "name": "stdout",
     "output_type": "stream",
     "text": [
      "1$$$2$$$3\n"
     ]
    }
   ],
   "source": [
    "# for ix in ds[:1000].split('\\n'):\n",
    "#     print [ix.strip()]\n",
    "\n",
    "print '$$$'.join(['1', '2', '3'])"
   ]
  },
  {
   "cell_type": "code",
   "execution_count": 263,
   "metadata": {
    "collapsed": false
   },
   "outputs": [],
   "source": [
    "# print ds.index('A STUDY IN SCARLET')\n",
    "start = 3433\n",
    "length = 50000\n",
    "\n",
    "data = ' '.join([ix.strip() for ix in ds[start:start+length].split('\\n')]).lower()\n",
    "\n",
    "import pandas as pd\n",
    "df = pd.read_csv('../../trump_tw.csv')['text']\n",
    "data = '. '.join([str(ix) for ix in df]).lower()\n"
   ]
  },
  {
   "cell_type": "code",
   "execution_count": 265,
   "metadata": {
    "collapsed": false
   },
   "outputs": [
    {
     "name": "stdout",
     "output_type": "stream",
     "text": [
      "3713941\n",
      "148\n"
     ]
    }
   ],
   "source": [
    "# print data\n",
    "print len(data)\n",
    "\n",
    "print len(set(data))"
   ]
  },
  {
   "cell_type": "code",
   "execution_count": 266,
   "metadata": {
    "collapsed": false
   },
   "outputs": [],
   "source": [
    "T = {}\n",
    "\n",
    "# define order of the Markov chain\n",
    "order = 5\n",
    "\n",
    "for ix in range(len(data)-order):\n",
    "    # get the current context\n",
    "    ctx = data[ix:ix+order]\n",
    "    \n",
    "    # get the future val\n",
    "    future_val = data[ix+order]\n",
    "    \n",
    "    # check if the context exists\n",
    "    if T.get(ctx) is None:\n",
    "        T[ctx] = {}\n",
    "        T[ctx][future_val] = 1\n",
    "    else:\n",
    "        # check if the future_val key exists\n",
    "        if T[ctx].get(future_val) is None:\n",
    "            T[ctx][future_val] = 1\n",
    "        else:\n",
    "            T[ctx][future_val] += 1"
   ]
  },
  {
   "cell_type": "code",
   "execution_count": 270,
   "metadata": {
    "collapsed": false
   },
   "outputs": [
    {
     "data": {
      "text/plain": [
       "427671"
      ]
     },
     "execution_count": 270,
     "metadata": {},
     "output_type": "execute_result"
    }
   ],
   "source": [
    "len(T.keys())"
   ]
  },
  {
   "cell_type": "code",
   "execution_count": 267,
   "metadata": {
    "collapsed": false,
    "scrolled": false
   },
   "outputs": [],
   "source": [
    "for kx in T.keys():\n",
    "    s = float(sum(T[kx].values()))\n",
    "    \n",
    "    for k in T[kx].keys():\n",
    "        T[kx][k] = T[kx][k]/s\n",
    "# print T['h']"
   ]
  },
  {
   "cell_type": "code",
   "execution_count": 268,
   "metadata": {
    "collapsed": false
   },
   "outputs": [
    {
     "data": {
      "image/png": "[encoded data removed]",
      "text/plain": [
       "<matplotlib.figure.Figure at 0x7fa8180b0550>"
      ]
     },
     "metadata": {},
     "output_type": "display_data"
    }
   ],
   "source": [
    "def temp_sample(probs, temp=1.0):\n",
    "    probs = np.asarray(probs)\n",
    "    exp_probs = np.exp(np.log(probs) / temp)\n",
    "    \n",
    "    return list(exp_probs / exp_probs.sum())\n",
    "\n",
    "p = [0.1, 0.1, 0.4, 0.2, 0.15, 0.05]\n",
    "q = temp_sample(p, 2.50)\n",
    "\n",
    "plt.plot(p, 'go-')\n",
    "plt.plot(q, 'r*-')\n",
    "\n",
    "plt.show()"
   ]
  },
  {
   "cell_type": "code",
   "execution_count": 271,
   "metadata": {
    "collapsed": false
   },
   "outputs": [],
   "source": [
    "def generate_next(ctx, diversity=1.0):\n",
    "    r = np.random.random()\n",
    "    \n",
    "    possible = T.get(ctx)\n",
    "    \n",
    "    if possible is None:\n",
    "        return ' '\n",
    "    diverse_probs = temp_sample(possible.values(), temp=diversity)\n",
    "    return np.random.choice(possible.keys(), p=diverse_probs)"
   ]
  },
  {
   "cell_type": "code",
   "execution_count": 236,
   "metadata": {
    "collapsed": false
   },
   "outputs": [
    {
     "name": "stdout",
     "output_type": "stream",
     "text": [
      "{'!': 0.0009727626459143966, ' ': 0.21789883268482482, '\"': 0.00032425421530479895, \"'\": 0.002269779507133593, '-': 0.0032425421530479885, ',': 0.017509727626459144, '.': 0.01848249027237354, ';': 0.0006485084306095979, '?': 0.0032425421530479885, 'a': 0.045071335927367055, 'c': 0.0038910505836575863, 'e': 0.08495460440985733, 'i': 0.06744487678339818, 'h': 0.29928664072632943, 'm': 0.0016212710765239943, 'l': 0.01913099870298314, 'o': 0.10505836575875482, 'n': 0.0012970168612191958, 'p': 0.00032425421530479895, 's': 0.015888456549935148, 'r': 0.029182879377431897, 'u': 0.020752269779507133, 't': 0.024319066147859912, 'w': 0.005836575875486381, 'y': 0.011348897535667963}\n",
      "i\n"
     ]
    }
   ],
   "source": [
    "print T['t']\n",
    "print generate_next(\"t\", diversity=1.0)"
   ]
  },
  {
   "cell_type": "code",
   "execution_count": 288,
   "metadata": {
    "collapsed": false
   },
   "outputs": [
    {
     "name": "stdout",
     "output_type": "stream",
     "text": [
      "mexico to make america great racist' in police best parts...... http://t.co/myiwkyfivu. we just got the us---and end pay for everyone who would country. no missile.. the ice is one your stand speech tonight, i things will credible to make america great politicians by @thegarybusey i have been are on trade deal, and this country need a sweet meetings, with larry to funny. \"@biglakes you notice in debt in in florida - the respond ted cruz should be fixed on the bigger, censorship now!. thank you have pass of the predicted that iran nuclear the season a nice.. @trump tower buildings http://t.co/y6vyva0gn8 the most voting our best sees nervous because has of the this come.\" #timetogether, who build a heck if angelo and america greatest me for your send our commercials you built work. \"@jeremymanning at us, we will be interview when you should have to the great guy - reality the @white house. \"@piersmorgan: donaldtrump @brendakenewscaster! http://t.co/gdrxb3addu. \"@bxldgxng: @realdonaldtrump i think @amandards and got our country need to be president. looks a look' at 2p/10p et on @attnyc and to get him and smart--what you.\"  thank you maryland, that is here we going at @moron win!. \"@shavaju: @steve job @barackobama be a fantastic ice of the successful in november, to taking all of the last night? nothing and check out of the place. have been to see whatever them watch to the only dependence is a great the world. americagreat in the @buffalobills to get the trump @andrew many time. i loves train less. take america's become of all of the only be great &amp; order investment was made a tremendous people like your visiting at all vote for years ago, it was one of the entire catholic of the ring back on the leverage: @realdonaldtrump for me. they should look for president of the judgment.. @jonkarl rove it and spect 4 us\". \"@justinguishes.. jake the whitehouse for president donald trump are you would get read the once at the dishonest right it is first play guilty because he is \n"
     ]
    }
   ],
   "source": [
    "ind = int(np.random.random()*(len(data)-order))\n",
    "initial_state = 'mexic'#data[ind:ind+order]\n",
    "ctx = initial_state\n",
    "\n",
    "sentence = '' + ctx\n",
    "\n",
    "for ix in range(2000):\n",
    "    nxt = generate_next(ctx, diversity=0.8)\n",
    "    sentence += nxt\n",
    "    ctx = sentence[-order:]\n",
    "\n",
    "print sentence"
   ]
  },
  {
   "cell_type": "code",
   "execution_count": null,
   "metadata": {
    "collapsed": false
   },
   "outputs": [],
   "source": []
  },
  {
   "cell_type": "code",
   "execution_count": 260,
   "metadata": {
    "collapsed": false
   },
   "outputs": [],
   "source": []
  },
  {
   "cell_type": "code",
   "execution_count": null,
   "metadata": {
    "collapsed": false
   },
   "outputs": [],
   "source": []
  }
 ],
 "metadata": {
  "kernelspec": {
   "display_name": "Python 2",
   "language": "python",
   "name": "python2"
  },
  "language_info": {
   "codemirror_mode": {
    "name": "ipython",
    "version": 2
   },
   "file_extension": ".py",
   "mimetype": "text/x-python",
   "name": "python",
   "nbconvert_exporter": "python",
   "pygments_lexer": "ipython2",
   "version": "2.7.12"
  }
 },
 "nbformat": 4,
 "nbformat_minor": 2
}
