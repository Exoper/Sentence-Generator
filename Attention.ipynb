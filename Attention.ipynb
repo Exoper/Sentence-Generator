{
 "cells": [
  {
   "cell_type": "code",
   "execution_count": 1,
   "metadata": {
    "collapsed": true
   },
   "outputs": [],
   "source": [
    "import numpy as np\n",
    "import torch\n",
    "import torch.nn as nn\n",
    "import torch.nn.functional as F\n",
    "import pandas as pd\n",
    "import seaborn as sns\n",
    "\n",
    "from torch.autograd import Variable\n",
    "from matplotlib import pyplot as plt\n",
    "%matplotlib inline"
   ]
  },
  {
   "cell_type": "code",
   "execution_count": 2,
   "metadata": {
    "collapsed": true
   },
   "outputs": [],
   "source": [
    "def generate_data(N, dim=32, attention_col=1):\n",
    "    x = np.random.standard_normal(size=(N, dim))\n",
    "    y = np.random.randint(low=0, high=3, size=(N, 1))\n",
    "    x[:, attention_col] = y[:, 0]\n",
    "    return x, y"
   ]
  },
  {
   "cell_type": "code",
   "execution_count": 98,
   "metadata": {
    "collapsed": false
   },
   "outputs": [],
   "source": [
    "class Net(nn.Module):\n",
    "    def __init__(self, ndim=32):\n",
    "        super(Net, self).__init__()\n",
    "        self.attention = nn.Linear(ndim, ndim)\n",
    "        self.out = nn.Linear(ndim, 1)\n",
    "    \n",
    "    def attn(self, x):\n",
    "        p = F.softmax(self.attention(x))\n",
    "        return p\n",
    "        \n",
    "    def forward(self, x):\n",
    "        x = x*self.attn(x)\n",
    "        x = self.out(x)\n",
    "        return x"
   ]
  },
  {
   "cell_type": "code",
   "execution_count": 222,
   "metadata": {
    "collapsed": true
   },
   "outputs": [],
   "source": [
    "model = Net(ndim=64)"
   ]
  },
  {
   "cell_type": "code",
   "execution_count": 243,
   "metadata": {
    "collapsed": true
   },
   "outputs": [],
   "source": [
    "X, y = generate_data(1000, dim=64, attention_col=23)"
   ]
  },
  {
   "cell_type": "code",
   "execution_count": 244,
   "metadata": {
    "collapsed": false
   },
   "outputs": [
    {
     "data": {
      "text/plain": [
       "((1000, 64), (1000, 1))"
      ]
     },
     "execution_count": 244,
     "metadata": {},
     "output_type": "execute_result"
    }
   ],
   "source": [
    "X.shape, y.shape"
   ]
  },
  {
   "cell_type": "code",
   "execution_count": 245,
   "metadata": {
    "collapsed": false
   },
   "outputs": [
    {
     "name": "stdout",
     "output_type": "stream",
     "text": [
      "[-0.06573906 -0.36006065 -1.49132106 -0.85152285 -1.22016296 -0.05208021\n",
      "  1.39215736 -0.16654773 -1.02128702 -0.3344231   0.14071708  0.94612158\n",
      " -0.51118331 -2.6121079   1.68120377 -0.93562991 -0.68745553  0.03892826\n",
      "  1.20611793  0.6757367  -1.36996008  0.66182928  2.33347465  0.\n",
      " -1.32514727 -1.90603852  1.32775398 -2.26132517 -0.0902745  -0.98601464\n",
      " -1.19998164 -0.47602826 -0.18679921 -0.31446032  0.49559428 -1.16381411\n",
      " -0.4010295  -0.93370903  0.33170548 -0.4532219  -0.27970197 -0.76644142\n",
      " -1.22628342 -0.22478855  0.80613942  0.83792461 -1.20857286 -0.33663369\n",
      " -0.75031418 -0.61726454 -0.28685174  1.71621392  0.60836514 -0.41580973\n",
      "  1.10605731 -1.28110298  0.68301695  0.57392216 -0.36435019  1.34593418\n",
      " -0.11933423  0.03894643 -0.54346608 -1.65438413] [0]\n"
     ]
    }
   ],
   "source": [
    "print X[43], y[43]"
   ]
  },
  {
   "cell_type": "code",
   "execution_count": 246,
   "metadata": {
    "collapsed": false
   },
   "outputs": [],
   "source": [
    "optimizer = torch.optim.Adam(model.parameters(), lr=0.001)\n",
    "lossfn = torch.nn.MSELoss()"
   ]
  },
  {
   "cell_type": "code",
   "execution_count": 249,
   "metadata": {
    "collapsed": false
   },
   "outputs": [
    {
     "name": "stderr",
     "output_type": "stream",
     "text": [
      "/usr/local/lib/python2.7/dist-packages/ipykernel/__main__.py:8: UserWarning: Implicit dimension choice for softmax has been deprecated. Change the call to include dim=X as an argument.\n"
     ]
    },
    {
     "name": "stdout",
     "output_type": "stream",
     "text": [
      "0 tensor(1.00000e-02 *\n",
      "       2.0954)\n",
      "100 tensor(1.00000e-02 *\n",
      "       1.9954)\n",
      "200 tensor(1.00000e-02 *\n",
      "       1.8899)\n",
      "300 tensor(1.00000e-02 *\n",
      "       1.8079)\n",
      "400 tensor(1.00000e-02 *\n",
      "       1.6139)\n",
      "500 tensor(1.00000e-02 *\n",
      "       1.5187)\n",
      "600 tensor(1.00000e-02 *\n",
      "       1.4579)\n",
      "700 tensor(1.00000e-02 *\n",
      "       1.4088)\n",
      "800 tensor(1.00000e-02 *\n",
      "       1.3527)\n",
      "900 tensor(1.00000e-02 *\n",
      "       1.3015)\n",
      "1000 tensor(1.00000e-02 *\n",
      "       1.2621)\n",
      "1100 tensor(1.00000e-02 *\n",
      "       1.2190)\n",
      "1200 tensor(1.00000e-02 *\n",
      "       1.1840)\n",
      "1300 tensor(1.00000e-02 *\n",
      "       1.0664)\n",
      "1400 tensor(1.00000e-03 *\n",
      "       9.8419)\n",
      "1500 tensor(1.00000e-03 *\n",
      "       9.0745)\n",
      "1600 tensor(1.00000e-03 *\n",
      "       8.6629)\n",
      "1700 tensor(1.00000e-03 *\n",
      "       8.3086)\n",
      "1800 tensor(1.00000e-03 *\n",
      "       7.9196)\n",
      "1900 tensor(1.00000e-03 *\n",
      "       7.1762)\n"
     ]
    }
   ],
   "source": [
    "for epoch in range(2000):\n",
    "    pred = model(torch.FloatTensor(X))\n",
    "    \n",
    "    loss = lossfn(pred, torch.FloatTensor(y))\n",
    "    optimizer.zero_grad()\n",
    "    \n",
    "    loss.backward()\n",
    "    optimizer.step()\n",
    "    \n",
    "    if epoch % 100 == 0:\n",
    "        print epoch, loss"
   ]
  },
  {
   "cell_type": "code",
   "execution_count": 250,
   "metadata": {
    "collapsed": false
   },
   "outputs": [
    {
     "name": "stdout",
     "output_type": "stream",
     "text": [
      "torch.Size([1000, 1])\n"
     ]
    },
    {
     "name": "stderr",
     "output_type": "stream",
     "text": [
      "/usr/local/lib/python2.7/dist-packages/ipykernel/__main__.py:8: UserWarning: Implicit dimension choice for softmax has been deprecated. Change the call to include dim=X as an argument.\n"
     ]
    }
   ],
   "source": [
    "o = model(torch.FloatTensor(X))\n",
    "print o.shape"
   ]
  },
  {
   "cell_type": "code",
   "execution_count": 251,
   "metadata": {
    "collapsed": false,
    "scrolled": true
   },
   "outputs": [
    {
     "name": "stdout",
     "output_type": "stream",
     "text": [
      "torch.Size([1000, 64])\n"
     ]
    },
    {
     "name": "stderr",
     "output_type": "stream",
     "text": [
      "/usr/local/lib/python2.7/dist-packages/ipykernel/__main__.py:8: UserWarning: Implicit dimension choice for softmax has been deprecated. Change the call to include dim=X as an argument.\n"
     ]
    }
   ],
   "source": [
    "a = model.attn(torch.FloatTensor(X))\n",
    "print a.shape"
   ]
  },
  {
   "cell_type": "code",
   "execution_count": 252,
   "metadata": {
    "collapsed": false
   },
   "outputs": [],
   "source": [
    "k = a.data.numpy().mean(0)"
   ]
  },
  {
   "cell_type": "code",
   "execution_count": 253,
   "metadata": {
    "collapsed": true
   },
   "outputs": [],
   "source": [
    "import pandas as pd"
   ]
  },
  {
   "cell_type": "code",
   "execution_count": 254,
   "metadata": {
    "collapsed": false
   },
   "outputs": [
    {
     "name": "stdout",
     "output_type": "stream",
     "text": [
      "[0.01343019 0.03003366 0.00844895 0.01199985 0.00461239 0.01787645\n",
      " 0.02237248 0.02456991 0.01251214 0.01740148 0.01722438 0.01048643\n",
      " 0.00842023 0.00975153 0.01045001 0.02104213 0.00679821 0.00625903\n",
      " 0.01827879 0.00907601 0.01677604 0.00583467 0.01533566 0.10596373\n",
      " 0.01346449 0.00992667 0.01668661 0.01827913 0.03079782 0.01391258\n",
      " 0.01240985 0.01789792 0.0181195  0.0271054  0.01171682 0.01133361\n",
      " 0.01112744 0.01079423 0.00726936 0.00604137 0.02052389 0.00910081\n",
      " 0.01649681 0.01152193 0.00950715 0.01637901 0.0108293  0.01228189\n",
      " 0.00688251 0.00758303 0.01546292 0.01955118 0.00996215 0.00576119\n",
      " 0.01948779 0.01869886 0.01162037 0.0194678  0.00719016 0.02108333\n",
      " 0.02036654 0.01279031 0.02315369 0.01245967]\n"
     ]
    }
   ],
   "source": [
    "print k"
   ]
  },
  {
   "cell_type": "code",
   "execution_count": 255,
   "metadata": {
    "collapsed": false
   },
   "outputs": [
    {
     "data": {
      "image/png": "[encoded data removed]",
      "text/plain": [
       "<matplotlib.figure.Figure at 0x7f46a3c45790>"
      ]
     },
     "metadata": {},
     "output_type": "display_data"
    }
   ],
   "source": [
    "N = 0\n",
    "ds = pd.DataFrame(k, columns=['attention (%)'])\n",
    "ds.plot(kind='bar', title='Attention Mechanism')\n",
    "plt.show()"
   ]
  },
  {
   "cell_type": "code",
   "execution_count": null,
   "metadata": {
    "collapsed": false
   },
   "outputs": [],
   "source": []
  },
  {
   "cell_type": "code",
   "execution_count": null,
   "metadata": {
    "collapsed": false
   },
   "outputs": [],
   "source": []
  }
 ],
 "metadata": {
  "kernelspec": {
   "display_name": "Python 2",
   "language": "python",
   "name": "python2"
  },
  "language_info": {
   "codemirror_mode": {
    "name": "ipython",
    "version": 2
   },
   "file_extension": ".py",
   "mimetype": "text/x-python",
   "name": "python",
   "nbconvert_exporter": "python",
   "pygments_lexer": "ipython2",
   "version": "2.7.12"
  }
 },
 "nbformat": 4,
 "nbformat_minor": 2
}
